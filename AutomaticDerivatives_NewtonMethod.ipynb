{
  "nbformat": 4,
  "nbformat_minor": 0,
  "metadata": {
    "colab": {
      "provenance": [],
      "authorship_tag": "ABX9TyMuLPF5qnFIWUufLRY+bsRu",
      "include_colab_link": true
    },
    "kernelspec": {
      "name": "python3",
      "display_name": "Python 3"
    },
    "language_info": {
      "name": "python"
    }
  },
  "cells": [
    {
      "cell_type": "markdown",
      "metadata": {
        "id": "view-in-github",
        "colab_type": "text"
      },
      "source": [
        "<a href=\"https://colab.research.google.com/github/chetools/CHE4061_Fall2025/blob/main/AutomaticDerivatives_NewtonMethod.ipynb\" target=\"_parent\"><img src=\"https://colab.research.google.com/assets/colab-badge.svg\" alt=\"Open In Colab\"/></a>"
      ]
    },
    {
      "cell_type": "code",
      "execution_count": 2,
      "metadata": {
        "id": "5UB5clgdQyqc"
      },
      "outputs": [],
      "source": [
        "import numpy as np\n",
        "import jax\n",
        "import jax.numpy as jnp\n",
        "jax.config.update(\"jax_enable_x64\", True)"
      ]
    },
    {
      "cell_type": "code",
      "source": [
        "def fun(x):\n",
        "    return (x-3)*(x-2.5)*(x+1)*(x+3)"
      ],
      "metadata": {
        "id": "w7RzevKpQ3S2"
      },
      "execution_count": 4,
      "outputs": []
    },
    {
      "cell_type": "code",
      "source": [
        "f_deriv = jax.grad(fun)\n",
        "f_deriv(2.2)"
      ],
      "metadata": {
        "colab": {
          "base_uri": "https://localhost:8080/"
        },
        "id": "a9oxJ17cTuCF",
        "outputId": "f12e485e-54db-48ca-f3bf-f1e7d94be732"
      },
      "execution_count": 22,
      "outputs": [
        {
          "output_type": "execute_result",
          "data": {
            "text/plain": [
              "Array(-16.288, dtype=float64, weak_type=True)"
            ]
          },
          "metadata": {},
          "execution_count": 22
        }
      ]
    },
    {
      "cell_type": "code",
      "source": [
        "def deriv(f, x, h=1e-6):\n",
        "    return (f(x+h)-f(x))/h"
      ],
      "metadata": {
        "id": "60-_0_XwRNQH"
      },
      "execution_count": 5,
      "outputs": []
    },
    {
      "cell_type": "code",
      "source": [
        "def newton(f, x0, niter=10, tol=1e-12):\n",
        "    xold = x0\n",
        "    f_val = f(xold)\n",
        "    for i in range(niter):\n",
        "        fprime = deriv(f, xold)\n",
        "        xnew = -f_val/fprime + xold\n",
        "        f_val = f(xnew)\n",
        "        print(i, xnew, f_val)\n",
        "        if np.abs(f_val) < tol:\n",
        "            break\n",
        "        xold = xnew\n",
        "    return xnew, f_val\n",
        "\n"
      ],
      "metadata": {
        "id": "IfusZHveRjuf"
      },
      "execution_count": 8,
      "outputs": []
    },
    {
      "cell_type": "code",
      "source": [
        "newton(fun, 2.2)"
      ],
      "metadata": {
        "colab": {
          "base_uri": "https://localhost:8080/"
        },
        "id": "nmTBCSewRlvG",
        "outputId": "01e25577-5331-485b-fc57-f089f3e1e4d9"
      },
      "execution_count": 9,
      "outputs": [
        {
          "output_type": "stream",
          "name": "stdout",
          "text": [
            "0 2.445186755448354 0.5705029289979775\n",
            "1 2.496279521703344 0.036013334949552576\n",
            "2 2.499979121492139 0.00020096206778627985\n",
            "3 2.499999999364026 6.121249180172693e-09\n",
            "4 2.500000000000001 -8.548717289613694e-15\n"
          ]
        },
        {
          "output_type": "execute_result",
          "data": {
            "text/plain": [
              "(2.500000000000001, -8.548717289613694e-15)"
            ]
          },
          "metadata": {},
          "execution_count": 9
        }
      ]
    },
    {
      "cell_type": "code",
      "source": [
        "hs = np.logspace(-3, -16, 14)"
      ],
      "metadata": {
        "id": "NvgjRiTNSvBN"
      },
      "execution_count": 17,
      "outputs": []
    },
    {
      "cell_type": "code",
      "source": [
        "hs"
      ],
      "metadata": {
        "colab": {
          "base_uri": "https://localhost:8080/"
        },
        "id": "2SKm0_9vTI7e",
        "outputId": "9fe10aa1-0957-4989-b9d4-b92927c97f48"
      },
      "execution_count": 18,
      "outputs": [
        {
          "output_type": "execute_result",
          "data": {
            "text/plain": [
              "array([1.e-03, 1.e-04, 1.e-05, 1.e-06, 1.e-07, 1.e-08, 1.e-09, 1.e-10,\n",
              "       1.e-11, 1.e-12, 1.e-13, 1.e-14, 1.e-15, 1.e-16])"
            ]
          },
          "metadata": {},
          "execution_count": 18
        }
      ]
    },
    {
      "cell_type": "code",
      "source": [
        "for h in hs:\n",
        "    finite_diff= deriv(fun, 2.2, h)\n",
        "    auto_diff = f_deriv(2.2)\n",
        "    print(h, np.abs(finite_diff-auto_diff))"
      ],
      "metadata": {
        "colab": {
          "base_uri": "https://localhost:8080/"
        },
        "id": "eGYtuJRwTKxN",
        "outputId": "ad507897-df43-488b-9e0b-c0db8305d250"
      },
      "execution_count": 24,
      "outputs": [
        {
          "output_type": "stream",
          "name": "stdout",
          "text": [
            "0.001 0.007647301002361218\n",
            "0.0001 0.0007640729761391185\n",
            "1e-05 7.640071034131779e-05\n",
            "1e-06 7.638025905976065e-06\n",
            "1e-07 7.972757174457001e-07\n",
            "1e-08 2.510459893301231e-07\n",
            "1e-09 1.1700394821900773e-06\n",
            "1e-10 2.3826741966104237e-06\n",
            "1e-11 6.82356629511105e-06\n",
            "1e-12 0.001192217300300058\n",
            "1e-13 0.016571351093702447\n",
            "1e-14 0.40975429036235766\n",
            "1e-15 2.0771452847979948\n",
            "1e-16 16.287999999999997\n"
          ]
        }
      ]
    },
    {
      "cell_type": "code",
      "source": [],
      "metadata": {
        "id": "GKCgetrbTViZ"
      },
      "execution_count": null,
      "outputs": []
    }
  ]
}