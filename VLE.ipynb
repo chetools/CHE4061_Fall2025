{
  "nbformat": 4,
  "nbformat_minor": 0,
  "metadata": {
    "colab": {
      "provenance": [],
      "authorship_tag": "ABX9TyN54966OvKuIR5cNEhOlohP",
      "include_colab_link": true
    },
    "kernelspec": {
      "name": "python3",
      "display_name": "Python 3"
    },
    "language_info": {
      "name": "python"
    }
  },
  "cells": [
    {
      "cell_type": "markdown",
      "metadata": {
        "id": "view-in-github",
        "colab_type": "text"
      },
      "source": [
        "<a href=\"https://colab.research.google.com/github/chetools/CHE4061_Fall2025/blob/main/VLE.ipynb\" target=\"_parent\"><img src=\"https://colab.research.google.com/assets/colab-badge.svg\" alt=\"Open In Colab\"/></a>"
      ]
    },
    {
      "cell_type": "code",
      "execution_count": 1,
      "metadata": {
        "colab": {
          "base_uri": "https://localhost:8080/"
        },
        "id": "2IVvN85dWumt",
        "outputId": "d2023610-e5ce-4faf-92e5-76a169a75330"
      },
      "outputs": [
        {
          "output_type": "stream",
          "name": "stdout",
          "text": [
            "Collecting importnb\n",
            "  Downloading importnb-2023.11.1-py3-none-any.whl.metadata (9.4 kB)\n",
            "Downloading importnb-2023.11.1-py3-none-any.whl (45 kB)\n",
            "\u001b[?25l   \u001b[90m━━━━━━━━━━━━━━━━━━━━━━━━━━━━━━━━━━━━━━━━\u001b[0m \u001b[32m0.0/46.0 kB\u001b[0m \u001b[31m?\u001b[0m eta \u001b[36m-:--:--\u001b[0m\r\u001b[2K   \u001b[90m━━━━━━━━━━━━━━━━━━━━━━━━━━━━━━━━━━━━━━━━\u001b[0m \u001b[32m46.0/46.0 kB\u001b[0m \u001b[31m2.8 MB/s\u001b[0m eta \u001b[36m0:00:00\u001b[0m\n",
            "\u001b[?25hInstalling collected packages: importnb\n",
            "Successfully installed importnb-2023.11.1\n"
          ]
        }
      ],
      "source": [
        "!wget -N -q https://raw.githubusercontent.com/chetools/chetools/main/tools/che5.ipynb -O che5.ipynb\n",
        "!pip install importnb"
      ]
    },
    {
      "cell_type": "code",
      "source": [
        "from importnb import Notebook\n",
        "with Notebook():\n",
        "    from che5 import Props\n",
        "\n",
        "import numpy as np\n",
        "import scipy as sp\n",
        "from plotly.subplots import make_subplots\n",
        "import plotly.io as pio\n",
        "pio.templates.default = \"plotly_dark\"\n",
        "import jax\n",
        "import jax.numpy as jnp\n",
        "jax.config.update(\"jax_enable_x64\", True)"
      ],
      "metadata": {
        "id": "W0bo2gMdWwAr"
      },
      "execution_count": 2,
      "outputs": []
    },
    {
      "cell_type": "code",
      "source": [
        "p=Props(['Methanol','Water'])"
      ],
      "metadata": {
        "id": "bYg-Mhy6XgMR"
      },
      "execution_count": 7,
      "outputs": []
    },
    {
      "cell_type": "code",
      "source": [
        "p.Pvap(np.linspace(273.15,373.15,50))"
      ],
      "metadata": {
        "colab": {
          "base_uri": "https://localhost:8080/"
        },
        "id": "MIa2DJhrDbpa",
        "outputId": "a318e55c-503c-4171-eb7f-a9f331c85bfa"
      },
      "execution_count": 8,
      "outputs": [
        {
          "output_type": "execute_result",
          "data": {
            "text/plain": [
              "Array([[  3947.04688179,    614.65936223],\n",
              "       [  4494.62332748,    712.03065654],\n",
              "       [  5106.86844911,    822.80507403],\n",
              "       [  5790.01261566,    948.53690451],\n",
              "       [  6550.73821014,   1090.92448975],\n",
              "       [  7396.1997174 ,   1251.81977391],\n",
              "       [  8334.04386573,   1433.23816234],\n",
              "       [  9372.42977908,   1637.36867627],\n",
              "       [ 10520.04909715,   1866.58438982],\n",
              "       [ 11786.14602125,   2123.45313443],\n",
              "       [ 13180.53724498,   2410.74845458],\n",
              "       [ 14713.6317297 ,   2731.46079754],\n",
              "       [ 16396.45028639,   3088.80891885],\n",
              "       [ 18240.64492698,   3486.25148423],\n",
              "       [ 20258.51794991,   3927.49884777],\n",
              "       [ 22463.04072673,   4416.52498544],\n",
              "       [ 24867.87215857,   4957.57956231],\n",
              "       [ 27487.37677347,   5555.20011123],\n",
              "       [ 30336.64243783,   6214.22430028],\n",
              "       [ 33431.49765778,   6939.80226589],\n",
              "       [ 36788.52844865,   7737.40898831],\n",
              "       [ 40425.09475318,   8612.85668593],\n",
              "       [ 44359.3463918 ,   9572.30720467],\n",
              "       [ 48610.23853107,  10622.28437921],\n",
              "       [ 53197.54665852,  11769.68634234],\n",
              "       [ 58141.88105532,  13021.79775937],\n",
              "       [ 63464.70076053,  14386.30196482],\n",
              "       [ 69188.32702312,  15871.29297874],\n",
              "       [ 75335.95624103,  17485.28738097],\n",
              "       [ 81931.67238835,  19237.23602177],\n",
              "       [ 89000.45893478,  21136.5355483 ],\n",
              "       [ 96568.21026348,  23193.03972687],\n",
              "       [104661.74259591,  25417.07054194],\n",
              "       [113308.80443447,  27819.42905341],\n",
              "       [122538.08653579,  30411.40599508],\n",
              "       [132379.23142964,  33204.79209757],\n",
              "       [142862.84250033,  36211.88812065],\n",
              "       [154020.49264929,  39445.51458044],\n",
              "       [165884.73255928,  42919.0211582 ],\n",
              "       [178489.0985822 ,  46646.29577889],\n",
              "       [191868.12027406,  50641.77334807],\n",
              "       [206057.32760212,  54920.44413777],\n",
              "       [221093.25785023,  59497.86181221],\n",
              "       [237013.46224992,  64390.15108632],\n",
              "       [253856.51236554,  69614.0150103 ],\n",
              "       [271662.00626296,  75186.74187548],\n",
              "       [290470.57449188,  81126.21173711],\n",
              "       [310323.885913  ,  87450.90255157],\n",
              "       [331264.65340133,  94179.89592604],\n",
              "       [353336.63945808, 101332.88248016]], dtype=float64)"
            ]
          },
          "metadata": {},
          "execution_count": 8
        }
      ]
    },
    {
      "cell_type": "code",
      "source": [
        "z=np.array([0.4,0.6])"
      ],
      "metadata": {
        "id": "JrxNWaolDoAK"
      },
      "execution_count": 21,
      "outputs": []
    },
    {
      "cell_type": "code",
      "source": [
        "1/np.sum(z/p.Pvap(300))"
      ],
      "metadata": {
        "colab": {
          "base_uri": "https://localhost:8080/"
        },
        "id": "jdESCXhGNw-L",
        "outputId": "c4194642-25e0-4573-9c1f-c2dd5a9d57e6"
      },
      "execution_count": 24,
      "outputs": [
        {
          "output_type": "execute_result",
          "data": {
            "text/plain": [
              "Array(5250.07748118, dtype=float64)"
            ]
          },
          "metadata": {},
          "execution_count": 24
        }
      ]
    },
    {
      "cell_type": "code",
      "source": [],
      "metadata": {
        "id": "TcgHUR1hN50z"
      },
      "execution_count": null,
      "outputs": []
    }
  ]
}